{
 "cells": [
  {
   "cell_type": "markdown",
   "metadata": {},
   "source": [
    "# Pastillas de programación (Python): Pandas para usuarios de Excel"
   ]
  },
  {
   "cell_type": "markdown",
   "metadata": {},
   "source": [
    "Este post está dirigido a quienes utilizamos Excel diariamente desde hace tiempo y cuando nos encontramos con Pandas <br> extrañamos un poco esas operaciones básicas y repetitivas.<br>\n",
    "Es una guía rapida y pueden descargar el respositorio de mi guithub para tenerlo a mano, modificar, consultar, etc.<br>\n",
    "https://github.com/agus-ph/mediumpost_pandas_excel.git <br>\n",
    "Ahí vamos! "
   ]
  },
  {
   "cell_type": "markdown",
   "metadata": {},
   "source": [
    "### Cargamos la librería, traemos los datos e imprimimos algo de info útil de nuestro dataset"
   ]
  },
  {
   "cell_type": "code",
   "execution_count": 6,
   "metadata": {},
   "outputs": [
    {
     "name": "stdout",
     "output_type": "stream",
     "text": [
      "        Date    Client     Product  Net Price  Sales Tax\n",
      "0 2022-08-01  Client A      Led TV        227       22.7\n",
      "1 2022-08-01  Client B  Smartphone        549       54.9\n",
      "2 2022-08-01  Client C     Blender         34        3.4\n",
      "3 2022-08-01  Client F  Hair dryer        110       11.0\n",
      "4 2022-08-02  Client G  Headphones        170       17.0\n",
      "5 2022-08-02  Client D    Notebook        709       70.9\n",
      "6 2022-08-02  Client A  Smartphone        549       54.9\n",
      "7 2022-08-02  Client E  Smartphone        549       54.9\n",
      "8 2022-08-03  Client H  Smartphone        549       54.9\n",
      "9 2022-08-03  Client F     Trimmer         47        4.7\n",
      "Columnas Index(['Date', 'Client', 'Product', 'Net Price', 'Sales Tax'], dtype='object')\n",
      "Filas x Columnas (28, 5)\n",
      "Tipo de datos:\n",
      " Date         datetime64[ns]\n",
      "Client               object\n",
      "Product              object\n",
      "Net Price             int64\n",
      "Sales Tax           float64\n",
      "dtype: object\n"
     ]
    }
   ],
   "source": [
    "import pandas as pd\n",
    "df = pd.read_excel(\"dataset_muestra.xlsx\")\n",
    "print(df.head(10))\n",
    "print(\"Columnas\", df.columns) # En este caso no sería necesario pero si tenemos muchas columnas es muy útil\n",
    "print(\"Filas x Columnas\", df.shape) # Nos muestra la cantidad de filas y columnas\n",
    "print(\"Tipo de datos:\\n\", df.dtypes) # Nos muestra el tipo de dato que contiene cada columna"
   ]
  },
  {
   "cell_type": "markdown",
   "metadata": {},
   "source": [
    "### Algo que muy frecuentemente queremos conocer es el total de los valores de una columna. En Excel seleccionamos todos los valores de la columna y hacemos una sumatoria, en Pandas:\n"
   ]
  },
  {
   "cell_type": "code",
   "execution_count": 8,
   "metadata": {},
   "outputs": [
    {
     "data": {
      "text/plain": [
       "8207"
      ]
     },
     "execution_count": 8,
     "metadata": {},
     "output_type": "execute_result"
    }
   ],
   "source": [
    "df[\"Net Price\"].sum()"
   ]
  },
  {
   "cell_type": "markdown",
   "metadata": {},
   "source": [
    "### Otra operación muy frecuente es sumar valores de dos columnas y crear una nueva. En este caso vamos a sumar el precio neto y los impuestos."
   ]
  },
  {
   "cell_type": "code",
   "execution_count": 12,
   "metadata": {},
   "outputs": [
    {
     "data": {
      "text/html": [
       "<div>\n",
       "<style scoped>\n",
       "    .dataframe tbody tr th:only-of-type {\n",
       "        vertical-align: middle;\n",
       "    }\n",
       "\n",
       "    .dataframe tbody tr th {\n",
       "        vertical-align: top;\n",
       "    }\n",
       "\n",
       "    .dataframe thead th {\n",
       "        text-align: right;\n",
       "    }\n",
       "</style>\n",
       "<table border=\"1\" class=\"dataframe\">\n",
       "  <thead>\n",
       "    <tr style=\"text-align: right;\">\n",
       "      <th></th>\n",
       "      <th>Date</th>\n",
       "      <th>Client</th>\n",
       "      <th>Product</th>\n",
       "      <th>Net Price</th>\n",
       "      <th>Sales Tax</th>\n",
       "      <th>Gross Price</th>\n",
       "    </tr>\n",
       "  </thead>\n",
       "  <tbody>\n",
       "    <tr>\n",
       "      <th>0</th>\n",
       "      <td>2022-08-01</td>\n",
       "      <td>Client A</td>\n",
       "      <td>Led TV</td>\n",
       "      <td>227</td>\n",
       "      <td>22.7</td>\n",
       "      <td>249.7</td>\n",
       "    </tr>\n",
       "    <tr>\n",
       "      <th>1</th>\n",
       "      <td>2022-08-01</td>\n",
       "      <td>Client B</td>\n",
       "      <td>Smartphone</td>\n",
       "      <td>549</td>\n",
       "      <td>54.9</td>\n",
       "      <td>603.9</td>\n",
       "    </tr>\n",
       "    <tr>\n",
       "      <th>2</th>\n",
       "      <td>2022-08-01</td>\n",
       "      <td>Client C</td>\n",
       "      <td>Blender</td>\n",
       "      <td>34</td>\n",
       "      <td>3.4</td>\n",
       "      <td>37.4</td>\n",
       "    </tr>\n",
       "    <tr>\n",
       "      <th>3</th>\n",
       "      <td>2022-08-01</td>\n",
       "      <td>Client F</td>\n",
       "      <td>Hair dryer</td>\n",
       "      <td>110</td>\n",
       "      <td>11.0</td>\n",
       "      <td>121.0</td>\n",
       "    </tr>\n",
       "    <tr>\n",
       "      <th>4</th>\n",
       "      <td>2022-08-02</td>\n",
       "      <td>Client G</td>\n",
       "      <td>Headphones</td>\n",
       "      <td>170</td>\n",
       "      <td>17.0</td>\n",
       "      <td>187.0</td>\n",
       "    </tr>\n",
       "  </tbody>\n",
       "</table>\n",
       "</div>"
      ],
      "text/plain": [
       "        Date    Client     Product  Net Price  Sales Tax  Gross Price\n",
       "0 2022-08-01  Client A      Led TV        227       22.7        249.7\n",
       "1 2022-08-01  Client B  Smartphone        549       54.9        603.9\n",
       "2 2022-08-01  Client C     Blender         34        3.4         37.4\n",
       "3 2022-08-01  Client F  Hair dryer        110       11.0        121.0\n",
       "4 2022-08-02  Client G  Headphones        170       17.0        187.0"
      ]
     },
     "execution_count": 12,
     "metadata": {},
     "output_type": "execute_result"
    }
   ],
   "source": [
    "df[\"Gross Price\"] = df[\"Net Price\"] + df[\"Sales Tax\"]\n",
    "df.head(5)"
   ]
  },
  {
   "cell_type": "markdown",
   "metadata": {},
   "source": [
    "### Ahora veamos como ordenar por por nombre decliente"
   ]
  },
  {
   "cell_type": "code",
   "execution_count": 17,
   "metadata": {},
   "outputs": [
    {
     "data": {
      "text/html": [
       "<div>\n",
       "<style scoped>\n",
       "    .dataframe tbody tr th:only-of-type {\n",
       "        vertical-align: middle;\n",
       "    }\n",
       "\n",
       "    .dataframe tbody tr th {\n",
       "        vertical-align: top;\n",
       "    }\n",
       "\n",
       "    .dataframe thead th {\n",
       "        text-align: right;\n",
       "    }\n",
       "</style>\n",
       "<table border=\"1\" class=\"dataframe\">\n",
       "  <thead>\n",
       "    <tr style=\"text-align: right;\">\n",
       "      <th></th>\n",
       "      <th>Date</th>\n",
       "      <th>Client</th>\n",
       "      <th>Product</th>\n",
       "      <th>Net Price</th>\n",
       "      <th>Sales Tax</th>\n",
       "      <th>Gross Price</th>\n",
       "    </tr>\n",
       "  </thead>\n",
       "  <tbody>\n",
       "    <tr>\n",
       "      <th>0</th>\n",
       "      <td>2022-08-01</td>\n",
       "      <td>Client A</td>\n",
       "      <td>Led TV</td>\n",
       "      <td>227</td>\n",
       "      <td>22.7</td>\n",
       "      <td>249.7</td>\n",
       "    </tr>\n",
       "    <tr>\n",
       "      <th>25</th>\n",
       "      <td>2022-08-07</td>\n",
       "      <td>Client A</td>\n",
       "      <td>Tablet</td>\n",
       "      <td>199</td>\n",
       "      <td>19.9</td>\n",
       "      <td>218.9</td>\n",
       "    </tr>\n",
       "    <tr>\n",
       "      <th>14</th>\n",
       "      <td>2022-08-04</td>\n",
       "      <td>Client A</td>\n",
       "      <td>Notebook</td>\n",
       "      <td>709</td>\n",
       "      <td>70.9</td>\n",
       "      <td>779.9</td>\n",
       "    </tr>\n",
       "    <tr>\n",
       "      <th>6</th>\n",
       "      <td>2022-08-02</td>\n",
       "      <td>Client A</td>\n",
       "      <td>Smartphone</td>\n",
       "      <td>549</td>\n",
       "      <td>54.9</td>\n",
       "      <td>603.9</td>\n",
       "    </tr>\n",
       "    <tr>\n",
       "      <th>21</th>\n",
       "      <td>2022-08-06</td>\n",
       "      <td>Client A</td>\n",
       "      <td>Headphones</td>\n",
       "      <td>170</td>\n",
       "      <td>17.0</td>\n",
       "      <td>187.0</td>\n",
       "    </tr>\n",
       "    <tr>\n",
       "      <th>1</th>\n",
       "      <td>2022-08-01</td>\n",
       "      <td>Client B</td>\n",
       "      <td>Smartphone</td>\n",
       "      <td>549</td>\n",
       "      <td>54.9</td>\n",
       "      <td>603.9</td>\n",
       "    </tr>\n",
       "  </tbody>\n",
       "</table>\n",
       "</div>"
      ],
      "text/plain": [
       "         Date    Client     Product  Net Price  Sales Tax  Gross Price\n",
       "0  2022-08-01  Client A      Led TV        227       22.7        249.7\n",
       "25 2022-08-07  Client A      Tablet        199       19.9        218.9\n",
       "14 2022-08-04  Client A    Notebook        709       70.9        779.9\n",
       "6  2022-08-02  Client A  Smartphone        549       54.9        603.9\n",
       "21 2022-08-06  Client A  Headphones        170       17.0        187.0\n",
       "1  2022-08-01  Client B  Smartphone        549       54.9        603.9"
      ]
     },
     "execution_count": 17,
     "metadata": {},
     "output_type": "execute_result"
    }
   ],
   "source": [
    "df.sort_values(by=\"Client\").head(6) # La función head() la agrego solo para que no imprima todo"
   ]
  },
  {
   "cell_type": "markdown",
   "metadata": {},
   "source": [
    "### Lo mismo pero del último al primero pororden alfabético"
   ]
  },
  {
   "cell_type": "code",
   "execution_count": 18,
   "metadata": {},
   "outputs": [
    {
     "data": {
      "text/html": [
       "<div>\n",
       "<style scoped>\n",
       "    .dataframe tbody tr th:only-of-type {\n",
       "        vertical-align: middle;\n",
       "    }\n",
       "\n",
       "    .dataframe tbody tr th {\n",
       "        vertical-align: top;\n",
       "    }\n",
       "\n",
       "    .dataframe thead th {\n",
       "        text-align: right;\n",
       "    }\n",
       "</style>\n",
       "<table border=\"1\" class=\"dataframe\">\n",
       "  <thead>\n",
       "    <tr style=\"text-align: right;\">\n",
       "      <th></th>\n",
       "      <th>Date</th>\n",
       "      <th>Client</th>\n",
       "      <th>Product</th>\n",
       "      <th>Net Price</th>\n",
       "      <th>Sales Tax</th>\n",
       "      <th>Gross Price</th>\n",
       "    </tr>\n",
       "  </thead>\n",
       "  <tbody>\n",
       "    <tr>\n",
       "      <th>18</th>\n",
       "      <td>2022-08-05</td>\n",
       "      <td>Client H</td>\n",
       "      <td>Notebook</td>\n",
       "      <td>709</td>\n",
       "      <td>70.9</td>\n",
       "      <td>779.9</td>\n",
       "    </tr>\n",
       "    <tr>\n",
       "      <th>8</th>\n",
       "      <td>2022-08-03</td>\n",
       "      <td>Client H</td>\n",
       "      <td>Smartphone</td>\n",
       "      <td>549</td>\n",
       "      <td>54.9</td>\n",
       "      <td>603.9</td>\n",
       "    </tr>\n",
       "    <tr>\n",
       "      <th>22</th>\n",
       "      <td>2022-08-06</td>\n",
       "      <td>Client G</td>\n",
       "      <td>PC</td>\n",
       "      <td>650</td>\n",
       "      <td>65.0</td>\n",
       "      <td>715.0</td>\n",
       "    </tr>\n",
       "    <tr>\n",
       "      <th>4</th>\n",
       "      <td>2022-08-02</td>\n",
       "      <td>Client G</td>\n",
       "      <td>Headphones</td>\n",
       "      <td>170</td>\n",
       "      <td>17.0</td>\n",
       "      <td>187.0</td>\n",
       "    </tr>\n",
       "    <tr>\n",
       "      <th>15</th>\n",
       "      <td>2022-08-04</td>\n",
       "      <td>Client G</td>\n",
       "      <td>Microphone</td>\n",
       "      <td>98</td>\n",
       "      <td>9.8</td>\n",
       "      <td>107.8</td>\n",
       "    </tr>\n",
       "    <tr>\n",
       "      <th>23</th>\n",
       "      <td>2022-08-06</td>\n",
       "      <td>Client F</td>\n",
       "      <td>Webcam</td>\n",
       "      <td>33</td>\n",
       "      <td>3.3</td>\n",
       "      <td>36.3</td>\n",
       "    </tr>\n",
       "  </tbody>\n",
       "</table>\n",
       "</div>"
      ],
      "text/plain": [
       "         Date    Client     Product  Net Price  Sales Tax  Gross Price\n",
       "18 2022-08-05  Client H    Notebook        709       70.9        779.9\n",
       "8  2022-08-03  Client H  Smartphone        549       54.9        603.9\n",
       "22 2022-08-06  Client G          PC        650       65.0        715.0\n",
       "4  2022-08-02  Client G  Headphones        170       17.0        187.0\n",
       "15 2022-08-04  Client G  Microphone         98        9.8        107.8\n",
       "23 2022-08-06  Client F      Webcam         33        3.3         36.3"
      ]
     },
     "execution_count": 18,
     "metadata": {},
     "output_type": "execute_result"
    }
   ],
   "source": [
    "df.sort_values(by=\"Client\", ascending=False).head(6)"
   ]
  },
  {
   "cell_type": "markdown",
   "metadata": {},
   "source": [
    "### Filtrar valores también es muy fácil"
   ]
  },
  {
   "cell_type": "markdown",
   "metadata": {},
   "source": [
    "### Si queremos filtrar por el nombre de un cliente"
   ]
  },
  {
   "cell_type": "code",
   "execution_count": 20,
   "metadata": {},
   "outputs": [
    {
     "data": {
      "text/html": [
       "<div>\n",
       "<style scoped>\n",
       "    .dataframe tbody tr th:only-of-type {\n",
       "        vertical-align: middle;\n",
       "    }\n",
       "\n",
       "    .dataframe tbody tr th {\n",
       "        vertical-align: top;\n",
       "    }\n",
       "\n",
       "    .dataframe thead th {\n",
       "        text-align: right;\n",
       "    }\n",
       "</style>\n",
       "<table border=\"1\" class=\"dataframe\">\n",
       "  <thead>\n",
       "    <tr style=\"text-align: right;\">\n",
       "      <th></th>\n",
       "      <th>Date</th>\n",
       "      <th>Client</th>\n",
       "      <th>Product</th>\n",
       "      <th>Net Price</th>\n",
       "      <th>Sales Tax</th>\n",
       "      <th>Gross Price</th>\n",
       "    </tr>\n",
       "  </thead>\n",
       "  <tbody>\n",
       "    <tr>\n",
       "      <th>5</th>\n",
       "      <td>2022-08-02</td>\n",
       "      <td>Client D</td>\n",
       "      <td>Notebook</td>\n",
       "      <td>709</td>\n",
       "      <td>70.9</td>\n",
       "      <td>779.9</td>\n",
       "    </tr>\n",
       "    <tr>\n",
       "      <th>11</th>\n",
       "      <td>2022-08-03</td>\n",
       "      <td>Client D</td>\n",
       "      <td>Keyboard</td>\n",
       "      <td>159</td>\n",
       "      <td>15.9</td>\n",
       "      <td>174.9</td>\n",
       "    </tr>\n",
       "    <tr>\n",
       "      <th>16</th>\n",
       "      <td>2022-08-05</td>\n",
       "      <td>Client D</td>\n",
       "      <td>Webcam</td>\n",
       "      <td>33</td>\n",
       "      <td>3.3</td>\n",
       "      <td>36.3</td>\n",
       "    </tr>\n",
       "    <tr>\n",
       "      <th>26</th>\n",
       "      <td>2022-08-07</td>\n",
       "      <td>Client D</td>\n",
       "      <td>Led ring</td>\n",
       "      <td>31</td>\n",
       "      <td>3.1</td>\n",
       "      <td>34.1</td>\n",
       "    </tr>\n",
       "  </tbody>\n",
       "</table>\n",
       "</div>"
      ],
      "text/plain": [
       "         Date    Client   Product  Net Price  Sales Tax  Gross Price\n",
       "5  2022-08-02  Client D  Notebook        709       70.9        779.9\n",
       "11 2022-08-03  Client D  Keyboard        159       15.9        174.9\n",
       "16 2022-08-05  Client D    Webcam         33        3.3         36.3\n",
       "26 2022-08-07  Client D  Led ring         31        3.1         34.1"
      ]
     },
     "execution_count": 20,
     "metadata": {},
     "output_type": "execute_result"
    }
   ],
   "source": [
    "df[df[\"Client\"] == \"Client D\"].head(5)"
   ]
  },
  {
   "cell_type": "markdown",
   "metadata": {},
   "source": [
    "### O mas de un nombre"
   ]
  },
  {
   "cell_type": "code",
   "execution_count": 38,
   "metadata": {},
   "outputs": [
    {
     "data": {
      "text/html": [
       "<div>\n",
       "<style scoped>\n",
       "    .dataframe tbody tr th:only-of-type {\n",
       "        vertical-align: middle;\n",
       "    }\n",
       "\n",
       "    .dataframe tbody tr th {\n",
       "        vertical-align: top;\n",
       "    }\n",
       "\n",
       "    .dataframe thead th {\n",
       "        text-align: right;\n",
       "    }\n",
       "</style>\n",
       "<table border=\"1\" class=\"dataframe\">\n",
       "  <thead>\n",
       "    <tr style=\"text-align: right;\">\n",
       "      <th></th>\n",
       "      <th>Date</th>\n",
       "      <th>Client</th>\n",
       "      <th>Product</th>\n",
       "      <th>Net Price</th>\n",
       "      <th>Sales Tax</th>\n",
       "      <th>Gross Price</th>\n",
       "    </tr>\n",
       "  </thead>\n",
       "  <tbody>\n",
       "    <tr>\n",
       "      <th>5</th>\n",
       "      <td>2022-08-02</td>\n",
       "      <td>Client D</td>\n",
       "      <td>Notebook</td>\n",
       "      <td>709</td>\n",
       "      <td>70.9</td>\n",
       "      <td>779.9</td>\n",
       "    </tr>\n",
       "    <tr>\n",
       "      <th>7</th>\n",
       "      <td>2022-08-02</td>\n",
       "      <td>Client E</td>\n",
       "      <td>Smartphone</td>\n",
       "      <td>549</td>\n",
       "      <td>54.9</td>\n",
       "      <td>603.9</td>\n",
       "    </tr>\n",
       "    <tr>\n",
       "      <th>8</th>\n",
       "      <td>2022-08-03</td>\n",
       "      <td>Client H</td>\n",
       "      <td>Smartphone</td>\n",
       "      <td>549</td>\n",
       "      <td>54.9</td>\n",
       "      <td>603.9</td>\n",
       "    </tr>\n",
       "    <tr>\n",
       "      <th>11</th>\n",
       "      <td>2022-08-03</td>\n",
       "      <td>Client D</td>\n",
       "      <td>Keyboard</td>\n",
       "      <td>159</td>\n",
       "      <td>15.9</td>\n",
       "      <td>174.9</td>\n",
       "    </tr>\n",
       "    <tr>\n",
       "      <th>16</th>\n",
       "      <td>2022-08-05</td>\n",
       "      <td>Client D</td>\n",
       "      <td>Webcam</td>\n",
       "      <td>33</td>\n",
       "      <td>3.3</td>\n",
       "      <td>36.3</td>\n",
       "    </tr>\n",
       "    <tr>\n",
       "      <th>18</th>\n",
       "      <td>2022-08-05</td>\n",
       "      <td>Client H</td>\n",
       "      <td>Notebook</td>\n",
       "      <td>709</td>\n",
       "      <td>70.9</td>\n",
       "      <td>779.9</td>\n",
       "    </tr>\n",
       "  </tbody>\n",
       "</table>\n",
       "</div>"
      ],
      "text/plain": [
       "         Date    Client     Product  Net Price  Sales Tax  Gross Price\n",
       "5  2022-08-02  Client D    Notebook        709       70.9        779.9\n",
       "7  2022-08-02  Client E  Smartphone        549       54.9        603.9\n",
       "8  2022-08-03  Client H  Smartphone        549       54.9        603.9\n",
       "11 2022-08-03  Client D    Keyboard        159       15.9        174.9\n",
       "16 2022-08-05  Client D      Webcam         33        3.3         36.3\n",
       "18 2022-08-05  Client H    Notebook        709       70.9        779.9"
      ]
     },
     "execution_count": 38,
     "metadata": {},
     "output_type": "execute_result"
    }
   ],
   "source": [
    "df[(df[\"Client\"] == \"Client D\") | (df[\"Client\"] == \"Client E\") | (df[\"Client\"] == \"Client H\")].head(6)"
   ]
  },
  {
   "cell_type": "markdown",
   "metadata": {},
   "source": [
    "### También puedo utilizar una condición"
   ]
  },
  {
   "cell_type": "code",
   "execution_count": 28,
   "metadata": {},
   "outputs": [
    {
     "data": {
      "text/html": [
       "<div>\n",
       "<style scoped>\n",
       "    .dataframe tbody tr th:only-of-type {\n",
       "        vertical-align: middle;\n",
       "    }\n",
       "\n",
       "    .dataframe tbody tr th {\n",
       "        vertical-align: top;\n",
       "    }\n",
       "\n",
       "    .dataframe thead th {\n",
       "        text-align: right;\n",
       "    }\n",
       "</style>\n",
       "<table border=\"1\" class=\"dataframe\">\n",
       "  <thead>\n",
       "    <tr style=\"text-align: right;\">\n",
       "      <th></th>\n",
       "      <th>Date</th>\n",
       "      <th>Client</th>\n",
       "      <th>Product</th>\n",
       "      <th>Net Price</th>\n",
       "      <th>Sales Tax</th>\n",
       "      <th>Gross Price</th>\n",
       "    </tr>\n",
       "  </thead>\n",
       "  <tbody>\n",
       "    <tr>\n",
       "      <th>1</th>\n",
       "      <td>2022-08-01</td>\n",
       "      <td>Client B</td>\n",
       "      <td>Smartphone</td>\n",
       "      <td>549</td>\n",
       "      <td>54.9</td>\n",
       "      <td>603.9</td>\n",
       "    </tr>\n",
       "    <tr>\n",
       "      <th>5</th>\n",
       "      <td>2022-08-02</td>\n",
       "      <td>Client D</td>\n",
       "      <td>Notebook</td>\n",
       "      <td>709</td>\n",
       "      <td>70.9</td>\n",
       "      <td>779.9</td>\n",
       "    </tr>\n",
       "    <tr>\n",
       "      <th>6</th>\n",
       "      <td>2022-08-02</td>\n",
       "      <td>Client A</td>\n",
       "      <td>Smartphone</td>\n",
       "      <td>549</td>\n",
       "      <td>54.9</td>\n",
       "      <td>603.9</td>\n",
       "    </tr>\n",
       "    <tr>\n",
       "      <th>7</th>\n",
       "      <td>2022-08-02</td>\n",
       "      <td>Client E</td>\n",
       "      <td>Smartphone</td>\n",
       "      <td>549</td>\n",
       "      <td>54.9</td>\n",
       "      <td>603.9</td>\n",
       "    </tr>\n",
       "    <tr>\n",
       "      <th>8</th>\n",
       "      <td>2022-08-03</td>\n",
       "      <td>Client H</td>\n",
       "      <td>Smartphone</td>\n",
       "      <td>549</td>\n",
       "      <td>54.9</td>\n",
       "      <td>603.9</td>\n",
       "    </tr>\n",
       "  </tbody>\n",
       "</table>\n",
       "</div>"
      ],
      "text/plain": [
       "        Date    Client     Product  Net Price  Sales Tax  Gross Price\n",
       "1 2022-08-01  Client B  Smartphone        549       54.9        603.9\n",
       "5 2022-08-02  Client D    Notebook        709       70.9        779.9\n",
       "6 2022-08-02  Client A  Smartphone        549       54.9        603.9\n",
       "7 2022-08-02  Client E  Smartphone        549       54.9        603.9\n",
       "8 2022-08-03  Client H  Smartphone        549       54.9        603.9"
      ]
     },
     "execution_count": 28,
     "metadata": {},
     "output_type": "execute_result"
    }
   ],
   "source": [
    "df[df[\"Gross Price\"] > 500].head(5)"
   ]
  },
  {
   "cell_type": "markdown",
   "metadata": {},
   "source": [
    "### Si quisiéramos saber cuáles son los productos que comercializamos tenemos que buscar los valores únicos de la columna "
   ]
  },
  {
   "cell_type": "code",
   "execution_count": 29,
   "metadata": {},
   "outputs": [
    {
     "data": {
      "text/plain": [
       "array(['Led TV', 'Smartphone', 'Blender', 'Hair dryer', 'Headphones',\n",
       "       'Notebook', 'Trimmer', 'Juicer', 'Keyboard', 'Led ring',\n",
       "       'Microphone', 'Webcam', 'PC', 'Tablet', 'Mouse'], dtype=object)"
      ]
     },
     "execution_count": 29,
     "metadata": {},
     "output_type": "execute_result"
    }
   ],
   "source": [
    "df[\"Product\"].unique()"
   ]
  },
  {
   "cell_type": "markdown",
   "metadata": {},
   "source": [
    "### Y para saber cuántos vendimos de cada uno tenemos que contar la cantidad de veces que se repiten"
   ]
  },
  {
   "cell_type": "code",
   "execution_count": 30,
   "metadata": {},
   "outputs": [
    {
     "data": {
      "text/plain": [
       "Smartphone    4\n",
       "Notebook      4\n",
       "Webcam        3\n",
       "Led TV        2\n",
       "Headphones    2\n",
       "Keyboard      2\n",
       "Led ring      2\n",
       "PC            2\n",
       "Blender       1\n",
       "Hair dryer    1\n",
       "Trimmer       1\n",
       "Juicer        1\n",
       "Microphone    1\n",
       "Tablet        1\n",
       "Mouse         1\n",
       "Name: Product, dtype: int64"
      ]
     },
     "execution_count": 30,
     "metadata": {},
     "output_type": "execute_result"
    }
   ],
   "source": [
    "df[\"Product\"].value_counts()"
   ]
  },
  {
   "cell_type": "markdown",
   "metadata": {},
   "source": [
    "### Supongamos que ahora querer saber, por ejemplo, cuanto gastó cada cliente. Para eso vamos a agrupar por cliente, ordenarlos, y sumar cuanto gastó cada uno"
   ]
  },
  {
   "cell_type": "code",
   "execution_count": 36,
   "metadata": {},
   "outputs": [
    {
     "data": {
      "text/html": [
       "<div>\n",
       "<style scoped>\n",
       "    .dataframe tbody tr th:only-of-type {\n",
       "        vertical-align: middle;\n",
       "    }\n",
       "\n",
       "    .dataframe tbody tr th {\n",
       "        vertical-align: top;\n",
       "    }\n",
       "\n",
       "    .dataframe thead th {\n",
       "        text-align: right;\n",
       "    }\n",
       "</style>\n",
       "<table border=\"1\" class=\"dataframe\">\n",
       "  <thead>\n",
       "    <tr style=\"text-align: right;\">\n",
       "      <th></th>\n",
       "      <th>Client</th>\n",
       "      <th>Net Price</th>\n",
       "      <th>Sales Tax</th>\n",
       "      <th>Gross Price</th>\n",
       "    </tr>\n",
       "  </thead>\n",
       "  <tbody>\n",
       "    <tr>\n",
       "      <th>0</th>\n",
       "      <td>Client A</td>\n",
       "      <td>1854</td>\n",
       "      <td>185.4</td>\n",
       "      <td>2039.4</td>\n",
       "    </tr>\n",
       "    <tr>\n",
       "      <th>1</th>\n",
       "      <td>Client B</td>\n",
       "      <td>1391</td>\n",
       "      <td>139.1</td>\n",
       "      <td>1530.1</td>\n",
       "    </tr>\n",
       "    <tr>\n",
       "      <th>2</th>\n",
       "      <td>Client C</td>\n",
       "      <td>345</td>\n",
       "      <td>34.5</td>\n",
       "      <td>379.5</td>\n",
       "    </tr>\n",
       "    <tr>\n",
       "      <th>3</th>\n",
       "      <td>Client D</td>\n",
       "      <td>932</td>\n",
       "      <td>93.2</td>\n",
       "      <td>1025.2</td>\n",
       "    </tr>\n",
       "    <tr>\n",
       "      <th>4</th>\n",
       "      <td>Client E</td>\n",
       "      <td>1288</td>\n",
       "      <td>128.8</td>\n",
       "      <td>1416.8</td>\n",
       "    </tr>\n",
       "    <tr>\n",
       "      <th>5</th>\n",
       "      <td>Client F</td>\n",
       "      <td>221</td>\n",
       "      <td>22.1</td>\n",
       "      <td>243.1</td>\n",
       "    </tr>\n",
       "    <tr>\n",
       "      <th>6</th>\n",
       "      <td>Client G</td>\n",
       "      <td>918</td>\n",
       "      <td>91.8</td>\n",
       "      <td>1009.8</td>\n",
       "    </tr>\n",
       "    <tr>\n",
       "      <th>7</th>\n",
       "      <td>Client H</td>\n",
       "      <td>1258</td>\n",
       "      <td>125.8</td>\n",
       "      <td>1383.8</td>\n",
       "    </tr>\n",
       "  </tbody>\n",
       "</table>\n",
       "</div>"
      ],
      "text/plain": [
       "     Client  Net Price  Sales Tax  Gross Price\n",
       "0  Client A       1854      185.4       2039.4\n",
       "1  Client B       1391      139.1       1530.1\n",
       "2  Client C        345       34.5        379.5\n",
       "3  Client D        932       93.2       1025.2\n",
       "4  Client E       1288      128.8       1416.8\n",
       "5  Client F        221       22.1        243.1\n",
       "6  Client G        918       91.8       1009.8\n",
       "7  Client H       1258      125.8       1383.8"
      ]
     },
     "execution_count": 36,
     "metadata": {},
     "output_type": "execute_result"
    }
   ],
   "source": [
    "df.groupby(by=\"Client\", as_index=False).sum().sort_values(by=\"Client\")"
   ]
  },
  {
   "cell_type": "markdown",
   "metadata": {},
   "source": [
    "### Y con esto es suficiente por ahora. Nos vemos en el próximo post!"
   ]
  }
 ],
 "metadata": {
  "kernelspec": {
   "display_name": "Python 3 (ipykernel)",
   "language": "python",
   "name": "python3"
  },
  "language_info": {
   "codemirror_mode": {
    "name": "ipython",
    "version": 3
   },
   "file_extension": ".py",
   "mimetype": "text/x-python",
   "name": "python",
   "nbconvert_exporter": "python",
   "pygments_lexer": "ipython3",
   "version": "3.9.12"
  },
  "vscode": {
   "interpreter": {
    "hash": "b013054262fde0fcf5dbaa9a780ae155ea2baa8d303951c2b6292fa4c49a0cf8"
   }
  }
 },
 "nbformat": 4,
 "nbformat_minor": 2
}
